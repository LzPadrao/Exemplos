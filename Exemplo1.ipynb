{
 "cells": [
  {
   "cell_type": "markdown",
   "metadata": {},
   "source": [
    "# Exemplo de notebook\n",
    "\n",
    "Este notebook mostra como fazer as seguintes tarefas:\n",
    "\n",
    "1. Montar um circuito básico para gerar um dos estados de Bell\n",
    "2. Mostrar o circuito\n",
    "3. Simular e fazer o histograma da distribuição de probabilidades\n",
    "4. Rodar nos computadores quânticos da IBM (ibmqx2, ibmqx4 e ibmq_16_melbourne)\n",
    "\n",
    "**Atenção:** Para executar cada comando é necessário pressionar SHIFT-ENTER (o cursor deve estar na caixa correspondente). Para mais detalhes, pressionar ESC-h.\n"
   ]
  },
  {
   "cell_type": "code",
   "execution_count": 2,
   "metadata": {},
   "outputs": [],
   "source": [
    "from qiskit import *\n",
    "from qiskit.tools.monitor import job_monitor\n",
    "from qiskit.tools.visualization import plot_histogram\n"
   ]
  },
  {
   "cell_type": "code",
   "execution_count": 3,
   "metadata": {},
   "outputs": [
    {
     "data": {
      "text/plain": [
       "<qiskit.circuit.measure.Measure at 0x7f04061e2358>"
      ]
     },
     "execution_count": 3,
     "metadata": {},
     "output_type": "execute_result"
    }
   ],
   "source": [
    "### Montagem do circuito\n",
    "q = QuantumRegister(2)\n",
    "c = ClassicalRegister(2)\n",
    "circuito = QuantumCircuit(q, c)\n",
    "circuito.h(q[0])\n",
    "circuito.cx(q[0], q[1])\n",
    "circuito.measure(q[0], c[0])\n",
    "circuito.measure(q[1], c[1])"
   ]
  },
  {
   "cell_type": "code",
   "execution_count": 4,
   "metadata": {},
   "outputs": [
    {
     "data": {
      "image/png": "[encoded data removed]",
      "text/plain": [
       "<Figure size 421.4x258.86 with 1 Axes>"
      ]
     },
     "execution_count": 4,
     "metadata": {},
     "output_type": "execute_result"
    }
   ],
   "source": [
    "%matplotlib inline\n",
    "circuito.draw(output='mpl')\n",
    "# circuito.draw(output='latex')  # segunda opção para visualizar o circuito\n",
    "# print(circuito)  # terceira opção para visualizar o circuito"
   ]
  },
  {
   "cell_type": "code",
   "execution_count": 5,
   "metadata": {},
   "outputs": [],
   "source": [
    "## comando para gerar o código QASM do circuito\n",
    "# print(circuito.qasm())"
   ]
  },
  {
   "cell_type": "code",
   "execution_count": 6,
   "metadata": {},
   "outputs": [
    {
     "name": "stdout",
     "output_type": "stream",
     "text": [
      "{'11': 511, '00': 513}\n"
     ]
    }
   ],
   "source": [
    "### Comandos para simular a saída do circuito\n",
    "simulador = BasicAer.get_backend('qasm_simulator')\n",
    "job1 = execute(circuito, simulador, shots=1024)\n",
    "resultado1 = job1.result()\n",
    "contagem1 = resultado1.get_counts()\n",
    "print(contagem1)"
   ]
  },
  {
   "cell_type": "code",
   "execution_count": 7,
   "metadata": {},
   "outputs": [
    {
     "data": {
      "image/png": "[encoded data removed]",
      "text/plain": [
       "<Figure size 504x360 with 1 Axes>"
      ]
     },
     "execution_count": 7,
     "metadata": {},
     "output_type": "execute_result"
    }
   ],
   "source": [
    "plot_histogram(contagem1)"
   ]
  },
  {
   "cell_type": "code",
   "execution_count": 8,
   "metadata": {},
   "outputs": [],
   "source": [
    "\n",
    "### Este comando deve ser usado uma única vez, pois o valor do token ficará gravado so seu laptop.\n",
    "### Vá na página do IBM Q Experience, clique no seu usuário (boneco) para entrar na sua conta. \n",
    "### Clique em advanced. Copie o API Token e cole no comando abaixo.\n",
    "# IBMQ.save_account('API_Token')"
   ]
  },
  {
   "cell_type": "code",
   "execution_count": 9,
   "metadata": {},
   "outputs": [],
   "source": [
    "### Este comando só vai funcionar se você conseguiu ter sucesso no comando anterior.\n",
    "### Este comando deve ser dado toda vez que abrir este notebook\n",
    "IBMQ.load_accounts()"
   ]
  },
  {
   "cell_type": "code",
   "execution_count": 10,
   "metadata": {},
   "outputs": [
    {
     "name": "stdout",
     "output_type": "stream",
     "text": [
      "[<IBMQBackend('ibmqx4') from IBMQ()>, <IBMQBackend('ibmqx2') from IBMQ()>, <IBMQBackend('ibmq_16_melbourne') from IBMQ()>, <IBMQBackend('ibmq_qasm_simulator') from IBMQ()>]\n"
     ]
    }
   ],
   "source": [
    "print(IBMQ.backends())"
   ]
  },
  {
   "cell_type": "code",
   "execution_count": 11,
   "metadata": {},
   "outputs": [
    {
     "data": {
      "application/vnd.jupyter.widget-view+json": {
       "model_id": "958be1db144e47f592b56302bf94bf98"
      }
     },
     "metadata": {},
     "output_type": "display_data"
    },
    {
     "name": "stdout",
     "output_type": "stream",
     "text": [
      "{'01': 41, '11': 455, '10': 33, '00': 495}\n"
     ]
    }
   ],
   "source": [
    "### O comando get_backend seleciona o backend\n",
    "### O comando execute executa o circuito no IBMQX2\n",
    "### O job entra na fila. A espera pode demorar MUITAS HORAS.\n",
    "### O comando job_monitor mostra a posição em tempo real.\n",
    "### Se a conexão com a internet for interrompida, o job é cancelado.\n",
    "maquina_ibmqx2 = IBMQ.get_backend('ibmqx2')\n",
    "job2 = execute(circuito, maquina_ibmqx2, shots=1024)\n",
    "job_monitor(job2)\n",
    "resultado2 = job2.result()\n",
    "contagem2 = resultado2.get_counts()\n",
    "print(contagem2)"
   ]
  },
  {
   "cell_type": "code",
   "execution_count": 12,
   "metadata": {},
   "outputs": [
    {
     "data": {
      "image/png": "[encoded data removed]",
      "text/plain": [
       "<Figure size 504x360 with 1 Axes>"
      ]
     },
     "execution_count": 12,
     "metadata": {},
     "output_type": "execute_result"
    }
   ],
   "source": [
    "plot_histogram(contagem2)"
   ]
  },
  {
   "cell_type": "code",
   "execution_count": 13,
   "metadata": {},
   "outputs": [
    {
     "data": {
      "application/vnd.jupyter.widget-view+json": {
       "model_id": "ded64d6b175c401294be72c70bbe7da8"
      }
     },
     "metadata": {},
     "output_type": "display_data"
    },
    {
     "data": {
      "text/plain": [
       "{'00': 470, '01': 68, '10': 92, '11': 394}"
      ]
     },
     "execution_count": 13,
     "metadata": {},
     "output_type": "execute_result"
    }
   ],
   "source": [
    "### Estes comandos executam o circuito no IBMQX4\n",
    "### O job entra na fila e a posição é mostrada em tempo real. \n",
    "### A espera pode demorar muitas horas.\n",
    "### Se a conexão com a internet for interrompida, o job é cancelado.\n",
    "maquina_ibmqx4 = IBMQ.get_backend('ibmqx4')\n",
    "job3 = execute(circuito, maquina_ibmqx4, shots=1024)\n",
    "job_monitor(job3)\n",
    "resultado3 = job3.result()\n",
    "contagem3 = resultado3.get_counts()\n",
    "contagem3"
   ]
  },
  {
   "cell_type": "code",
   "execution_count": 14,
   "metadata": {},
   "outputs": [
    {
     "data": {
      "image/png": "[encoded data removed]",
      "text/plain": [
       "<Figure size 504x360 with 1 Axes>"
      ]
     },
     "execution_count": 14,
     "metadata": {},
     "output_type": "execute_result"
    }
   ],
   "source": [
    "plot_histogram(contagem3)"
   ]
  },
  {
   "cell_type": "code",
   "execution_count": null,
   "metadata": {},
   "outputs": [],
   "source": []
  }
 ],
 "metadata": {
  "kernelspec": {
   "display_name": "Python 3",
   "language": "python",
   "name": "python3"
  },
  "language_info": {
   "codemirror_mode": {
    "name": "ipython",
    "version": 3
   },
   "file_extension": ".py",
   "mimetype": "text/x-python",
   "name": "python",
   "nbconvert_exporter": "python",
   "pygments_lexer": "ipython3",
   "version": "3.6.5"
  }
 },
 "nbformat": 4,
 "nbformat_minor": 2
}
